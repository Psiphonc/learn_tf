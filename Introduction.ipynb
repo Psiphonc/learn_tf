{
 "cells": [
  {
   "cell_type": "markdown",
   "metadata": {
    "collapsed": false
   },
   "source": [
    "# Setup"
   ]
  },
  {
   "cell_type": "code",
   "execution_count": 5,
   "metadata": {
    "collapsed": false,
    "pycharm": {
     "name": "#%%\n"
    }
   },
   "outputs": [
    {
     "name": "stdout",
     "output_type": "stream",
     "text": [
      "1.4.0\n",
      "1.16.2\n"
     ]
    }
   ],
   "source": [
    "from __future__ import absolute_import\n",
    "from __future__ import division\n",
    "from __future__ import print_function\n",
    "\n",
    "import numpy as np\n",
    "import tensorflow as tf\n",
    "\n",
    "print(tf.__version__)\n",
    "print(np.__version__)"
   ]
  },
  {
   "cell_type": "markdown",
   "metadata": {
    "collapsed": false,
    "pycharm": {
     "name": "#%% md\n"
    }
   },
   "source": [
    "# Tensor Values\n",
    "The central unit of data in TensorFlow is the tensor. A tensor consists of a set of primitive values shaped into an array of any number of dimensions. A tensor's rank is its number of dimensions, while its shape is a tuple of integers specifying the array's length along each dimension. Here are some examples of tensor values:\n",
    "```python\n",
    "3. # a rank 0 tensor; a scalar with shape [],\n",
    "[1., 2., 3.] # a rank 1 tensor; a vector with shape [3]\n",
    "[[1., 2., 3.], [4., 5., 6.]] # a rank 2 tensor; a matrix with shape [2, 3]\n",
    "[[[1., 2., 3.]], [[7., 8., 9.]]] # a rank 3 tensor with shape [2, 1, 3]\n",
    "```\n",
    "# TensorFlow Core Walkthrough\n",
    "You might think of TensorFlow Core programs as consisting of two discrete sections:\n",
    "\n",
    "1. Building the computational graph (a `tf.Graph`).\n",
    "2. Running the computational graph (using a `tf.Session`).\n",
    "\n",
    "## Graph\n",
    "A computational graph is a series of TensorFlow operations arranged into a graph. The graph is composed of two types of objects.\n",
    "\n",
    "- tf.Operation (or \"ops\"): The nodes of the graph. Operations describe calculations that consume and produce tensors.\n",
    "- tf.Tensor: The edges in the graph. These represent the values that will flow through the graph. Most TensorFlow functions return tf.Tensors.\n",
    "Important: tf.Tensors do not have values, they are just handles to elements in the computation graph.\n",
    "\n",
    "Let's build a simple computational graph. The most basic operation is a constant. The Python function that builds the operation takes a tensor value as input. The resulting operation takes no inputs. When run, it outputs the value that was passed to the constructor. We can create two floating point constants a and b as follows:"
   ]
  },
  {
   "cell_type": "code",
   "execution_count": 6,
   "metadata": {
    "collapsed": false,
    "pycharm": {
     "name": "#%%\n"
    }
   },
   "outputs": [
    {
     "name": "stdout",
     "output_type": "stream",
     "text": [
      "Tensor(\"Const_2:0\", shape=(), dtype=float32)\n",
      "Tensor(\"Const_3:0\", shape=(), dtype=float32)\n",
      "Tensor(\"add:0\", shape=(), dtype=float32)\n"
     ]
    }
   ],
   "source": [
    "a = tf.constant(3.0, dtype=tf.float32)\n",
    "b = tf.constant(4.0)  # also tf.float32 implicitly\n",
    "total = a + b\n",
    "print(a)\n",
    "print(b)\n",
    "print(total)"
   ]
  },
  {
   "cell_type": "code",
   "execution_count": 7,
   "metadata": {
    "collapsed": false,
    "pycharm": {
     "name": "#%%\n"
    }
   },
   "outputs": [],
   "source": [
    "# writer = tf.summary.FileWriter('.')\n",
    "# writer.add_graph(tf.get_default_graph())\n",
    "# writer.flush()"
   ]
  },
  {
   "cell_type": "markdown",
   "metadata": {},
   "source": [
    "## TensorBoard\n",
    "TensorFlow provides a utility called TensorBoard. One of TensorBoard's many capabilities is visualizing a computation graph. You can easily do this with a few simple commands.\n",
    "First you save the computation graph to a TensorBoard summary file as follows:"
   ]
  },
  {
   "cell_type": "markdown",
   "metadata": {},
   "source": [
    "This will produce an event file in the current directory with a name in the following format:\n",
    "```\n",
    "events.out.tfevents.{timestamp}.{hostname}\n",
    "```\n",
    "Now, in a new terminal, launch TensorBoard with the following shell command:"
   ]
  },
  {
   "cell_type": "code",
   "execution_count": 8,
   "metadata": {},
   "outputs": [],
   "source": [
    "# ! tensorboard --logdir ."
   ]
  },
  {
   "cell_type": "markdown",
   "metadata": {},
   "source": [
    "Then open TensorBoard's graphs page in your browser, and you should see a graph similar to the following:\n",
    "![](https://camo.githubusercontent.com/56df99992f0a59e47d3c4e2ccee5f56c8a030654df820bcfb1144ac6e088c53d/68747470733a2f2f7777772e74656e736f72666c6f772e6f72672f696d616765732f67657474696e675f737461727465645f6164642e706e67)"
   ]
  },
  {
   "cell_type": "markdown",
   "metadata": {},
   "source": [
    "# Session\n",
    "To evaluate tensors, instantiate a `tf.Session` object, informally known as a session. A session encapsulates the state of the TensorFlow runtime, and runs TensorFlow operations. If a `tf.Graph` is like a `.py` file, a `tf.Session` is like the `python` executable.\n",
    "The following code creates a `tf.Session` object and then invokes its `run` method to evaluate the `total` tensor we created above:"
   ]
  },
  {
   "cell_type": "code",
   "execution_count": 9,
   "metadata": {},
   "outputs": [
    {
     "name": "stdout",
     "output_type": "stream",
     "text": [
      "7.0\n"
     ]
    }
   ],
   "source": [
    "sess = tf.Session()\n",
    "print(sess.run(total))"
   ]
  },
  {
   "cell_type": "markdown",
   "metadata": {},
   "source": [
    "When you request the output of a node with `Session.run` TensorFlow backtracks through the graph and runs all the nodes that provide input to the requested output node. So this prints the expected value of 7.0.\n",
    "\n",
    "You can pass multiple tensors to `tf.Session.run`. The `run` method transparently handles any combination of tuples or dictionaries, as in the following example:"
   ]
  },
  {
   "cell_type": "code",
   "execution_count": 10,
   "metadata": {},
   "outputs": [
    {
     "name": "stdout",
     "output_type": "stream",
     "text": [
      "{'ab': (3.0, 4.0), 'total': 7.0}\n"
     ]
    }
   ],
   "source": [
    "print(sess.run({'ab': (a, b), 'total': total}))"
   ]
  },
  {
   "cell_type": "markdown",
   "metadata": {},
   "source": [
    "During a call to `tf.Session.run` any `tf.Tensor` only has a single value. For example, the following code calls `tf.random_uniform` to produce a `tf.Tensor` that generates a random 3-element vector (with values in [0,1)):"
   ]
  },
  {
   "cell_type": "code",
   "execution_count": 11,
   "metadata": {},
   "outputs": [
    {
     "name": "stdout",
     "output_type": "stream",
     "text": [
      "[0.7256386  0.21094108 0.51548314]\n",
      "[0.8013824 0.3760885 0.8900175]\n",
      "(array([1.4325136, 1.0244038, 1.8172659], dtype=float32), array([2.4325137, 2.0244038, 2.817266 ], dtype=float32))\n"
     ]
    }
   ],
   "source": [
    "vec = tf.random_uniform(shape=(3,))\n",
    "out1 = vec + 1\n",
    "out2 = vec + 2\n",
    "print(sess.run(vec))\n",
    "print(sess.run(vec))\n",
    "print(sess.run((out1, out2)))"
   ]
  },
  {
   "cell_type": "markdown",
   "metadata": {},
   "source": [
    "Some TensorFlow functions return tf.Operations instead of tf.Tensors. The result of calling run on an Operation is None. You run an operation to cause a side-effect, not to retrieve a value. Examples of this include the initialization, and training ops demonstrated later."
   ]
  },
  {
   "cell_type": "markdown",
   "metadata": {},
   "source": [
    "## Feeding\n",
    "As it stands, this graph is not especially interesting because it always produces a constant result. A graph can be parameterized to accept external inputs, known as placeholders. A placeholder is a promise to provide a value later, like a function argument."
   ]
  },
  {
   "cell_type": "code",
   "execution_count": 12,
   "metadata": {},
   "outputs": [],
   "source": [
    "x = tf.placeholder(tf.float32)\n",
    "y = tf.placeholder(tf.float32)\n",
    "z = x + y"
   ]
  },
  {
   "cell_type": "markdown",
   "metadata": {},
   "source": [
    "The preceding three lines are a bit like a function in which we define two input parameters (`x` and `y`) and then an operation on them. We can evaluate this graph with multiple inputs by using the feed_dict argument of the `tf.Session.run` method to feed concrete values to the placeholders:"
   ]
  },
  {
   "cell_type": "code",
   "execution_count": 13,
   "metadata": {},
   "outputs": [
    {
     "name": "stdout",
     "output_type": "stream",
     "text": [
      "7.5\n",
      "[3. 7.]\n"
     ]
    }
   ],
   "source": [
    "print(sess.run(z, feed_dict={x: 3, y: 4.5}))\n",
    "print(sess.run(z, feed_dict={x: [1, 3], y: [2, 4]}))"
   ]
  },
  {
   "cell_type": "markdown",
   "metadata": {},
   "source": [
    "Also note that the `feed_dict` argument can be used to overwrite any tensor in the graph. The only difference between placeholders and other `tf.Tensors `is that placeholders throw an error if no value is fed to them."
   ]
  },
  {
   "cell_type": "markdown",
   "metadata": {},
   "source": [
    "## Datasets\n",
    "Placeholders work for simple experiments, but `tf.data` are the preferred method of streaming data into a model.\n",
    "\n",
    "To get a runnable `tf.Tensor` from a Dataset you must first convert it to a `tf.data.Iterator`, and then call the Iterator's `tf.data.Iterator.get_next` method.\n",
    "\n",
    "The simplest way to create an Iterator is with the `tf.data.Dataset.make_one_shot_iterator` method. For example, in the following code the `next_item` tensor will return a row from the `my_data` array on each `run` call:"
   ]
  },
  {
   "cell_type": "code",
   "execution_count": 14,
   "metadata": {},
   "outputs": [],
   "source": [
    "my_data = [\n",
    "    [0, 1, ],\n",
    "    [2, 3, ],\n",
    "    [4, 5, ],\n",
    "    [6, 7, ],\n",
    "]\n",
    "slices = tf.data.Dataset.from_tensor_slices(my_data)\n",
    "next_item = slices.make_one_shot_iterator().get_next()"
   ]
  },
  {
   "cell_type": "markdown",
   "metadata": {},
   "source": [
    "Reaching the end of the data stream causes Dataset to throw an `tf.errors.OutOfRangeError`. For example, the following code reads the `next_item` until there is no more data to read:"
   ]
  },
  {
   "cell_type": "code",
   "execution_count": 15,
   "metadata": {},
   "outputs": [
    {
     "name": "stdout",
     "output_type": "stream",
     "text": [
      "[0 1]\n",
      "[2 3]\n",
      "[4 5]\n",
      "[6 7]\n"
     ]
    }
   ],
   "source": [
    "while True:\n",
    "    try:\n",
    "        print(sess.run(next_item))\n",
    "    except tf.errors.OutOfRangeError:\n",
    "        break"
   ]
  },
  {
   "cell_type": "markdown",
   "metadata": {},
   "source": [
    "If the `Dataset` depends on stateful operations you may need to initialize the iterator before using it, as shown below:"
   ]
  },
  {
   "cell_type": "code",
   "execution_count": 16,
   "metadata": {},
   "outputs": [
    {
     "name": "stdout",
     "output_type": "stream",
     "text": [
      "[ 0.06986391  1.4610301  -1.0036495 ]\n",
      "[-0.7883714   0.1810219  -0.08442058]\n",
      "[ 0.5085128  -2.2415664   0.42563212]\n",
      "[ 0.0265535  1.4616607 -0.7144696]\n",
      "[-1.566601    0.09507536 -0.19432232]\n",
      "[0.05365401 0.6103887  0.7274601 ]\n",
      "[ 0.19288394  0.82535994 -0.17944159]\n",
      "[ 0.82877403 -1.1562536  -0.32464135]\n",
      "[-0.1984801   0.01974896  0.7166367 ]\n",
      "[1.3157581  1.6694859  0.14281015]\n"
     ]
    }
   ],
   "source": [
    "r = tf.random_normal([10, 3])\n",
    "dataset = tf.data.Dataset.from_tensor_slices(r)\n",
    "iterator = dataset.make_initializable_iterator()\n",
    "next_row = iterator.get_next()\n",
    "\n",
    "sess.run(iterator.initializer)\n",
    "while True:\n",
    "    try:\n",
    "        print(sess.run(next_row))\n",
    "    except tf.errors.OutOfRangeError:\n",
    "        break\n"
   ]
  },
  {
   "cell_type": "markdown",
   "metadata": {},
   "source": [
    "## Layers\n",
    "A trainable model must modify the values in the graph to get new outputs with the same input. `tf.layers` are the preferred way to add trainable parameters to a graph.\n",
    "Layers package together both the variables and the operations that act on them. For example a densely-connected layer performs a weighted sum across all inputs for each output and applies an optional activation function. The connection weights and biases are managed by the layer object.\n",
    "\n",
    "### Creating Layers\n",
    "The following code creates a `tf.layers.Dense` layer that takes a batch of input vectors, and produces a single output value for each. To apply a layer to an input, call the layer as if it were a function. For example:"
   ]
  },
  {
   "cell_type": "code",
   "execution_count": 17,
   "metadata": {},
   "outputs": [],
   "source": [
    "x = tf.placeholder(tf.float32, shape=[None, 3])\n",
    "linear_model = tf.layers.Dense(units=1)\n",
    "y = linear_model(x)"
   ]
  },
  {
   "cell_type": "markdown",
   "metadata": {},
   "source": [
    "The layer inspects its input to determine sizes for its internal variables. <mark>So here we must set the shape of the `x` placeholder so that the layer can build a weight matrix of the correct size.</mark>\n",
    "Now that we have defined the calculation of the output, `y`, there is one more detail we need to take care of before we run the calculation."
   ]
  },
  {
   "cell_type": "markdown",
   "metadata": {},
   "source": [
    "### Initializing Layers\n",
    "The layer contains variables that must be **initialized** before they can be used. While it is possible to initialize variables individually, you can easily initialize all the variables in a TensorFlow graph as follows:"
   ]
  },
  {
   "cell_type": "code",
   "execution_count": 18,
   "metadata": {},
   "outputs": [],
   "source": [
    "init = tf.global_variables_initializer()\n",
    "sess.run(init)"
   ]
  },
  {
   "cell_type": "markdown",
   "metadata": {},
   "source": [
    "Important: Calling `tf.global_variables_initializer` only creates and returns a handle to a TensorFlow operation. That op will initialize all the global variables when we run it with `tf.Session.run`.\n",
    "Also note that this `global_variables_initializer` only initializes variables that existed in the graph when the initializer was created. <mark>So the initializer should be one of the last things added during graph construction.</mark>"
   ]
  },
  {
   "cell_type": "markdown",
   "metadata": {},
   "source": [
    "### Executing Layers\n",
    "Now that the layer is initialized, we can evaluate the `linear_model`'s output tensor as we would any other tensor. For example, the following code:"
   ]
  },
  {
   "cell_type": "code",
   "execution_count": 19,
   "metadata": {},
   "outputs": [
    {
     "name": "stdout",
     "output_type": "stream",
     "text": [
      "[[-1.2446142]\n",
      " [-1.1509535]]\n"
     ]
    }
   ],
   "source": [
    "print(sess.run(y, {x: [[1, 2, 3], [4, 5, 6]]}))"
   ]
  },
  {
   "cell_type": "markdown",
   "metadata": {},
   "source": [
    "### Layer Function shortcuts\n",
    "For each layer class (like `tf.layers.Dense`) TensorFlow also supplies a shortcut function (like `tf.layers.dense`). The only difference is that the <mark>shortcut function versions create and run the layer in a single call.</mark> For example, the following code is equivalent to the earlier version:"
   ]
  },
  {
   "cell_type": "code",
   "execution_count": 20,
   "metadata": {},
   "outputs": [
    {
     "name": "stdout",
     "output_type": "stream",
     "text": [
      "[[1.1759804 ]\n",
      " [0.60365844]]\n"
     ]
    }
   ],
   "source": [
    "x = tf.placeholder(tf.float32, shape=[None, 3])\n",
    "y = tf.layers.dense(x, units=1)\n",
    "\n",
    "init = tf.global_variables_initializer()\n",
    "sess.run(init)\n",
    "\n",
    "print(sess.run(y, {x: [[1, 2, 3], [4, 5, 6]]}))\n",
    "sess.close()"
   ]
  },
  {
   "cell_type": "markdown",
   "metadata": {},
   "source": [
    "While convenient, this approach allows no access to the `tf.layers.Layer `object. This makes introspection and debugging more difficult, and layer reuse impossible."
   ]
  },
  {
   "cell_type": "markdown",
   "metadata": {},
   "source": [
    "## Feature columns\n",
    "The easiest way to experiment with feature columns is using the `tf.feature_column.input_layer` function. This function only accepts dense columns as inputs, so to view the result of a categorical column you must wrap it in an `tf.feature_column.indicator_column`. For example:"
   ]
  },
  {
   "cell_type": "code",
   "execution_count": 21,
   "metadata": {},
   "outputs": [],
   "source": [
    "features = {\n",
    "    'sales': [[5], [10], [8], [9]],\n",
    "    'department': ['sports', 'sports', 'gardening', 'gardening']}\n",
    "\n",
    "department_column = tf.feature_column.categorical_column_with_vocabulary_list(\n",
    "    'department', ['sports', 'gardening'])\n",
    "department_column = tf.feature_column.indicator_column(department_column)\n",
    "\n",
    "columns = [\n",
    "    tf.feature_column.numeric_column('sales'),\n",
    "    department_column\n",
    "]\n",
    "\n",
    "inputs = tf.feature_column.input_layer(features, columns)"
   ]
  },
  {
   "cell_type": "markdown",
   "metadata": {},
   "source": [
    "Running the `inputs` tensor will parse the `features` into a batch of vectors.\n",
    "\n",
    "Feature columns can have internal state, like layers, so they often need to be initialized. Categorical columns use `tf.contrib.lookup` internally and these require a separate initialization op, `tf.tables_initializer`."
   ]
  },
  {
   "cell_type": "code",
   "execution_count": 22,
   "metadata": {},
   "outputs": [
    {
     "data": {
      "text/plain": [
       "(None, None)"
      ]
     },
     "execution_count": 22,
     "metadata": {},
     "output_type": "execute_result"
    }
   ],
   "source": [
    "var_init = tf.global_variables_initializer()\n",
    "table_init = tf.tables_initializer()\n",
    "sess = tf.Session()\n",
    "sess.run((var_init, table_init))"
   ]
  },
  {
   "cell_type": "markdown",
   "metadata": {},
   "source": [
    "Once the internal state has been initialized you can run `inputs` like any other `tf.Tensor`:"
   ]
  },
  {
   "cell_type": "code",
   "execution_count": 23,
   "metadata": {},
   "outputs": [
    {
     "name": "stdout",
     "output_type": "stream",
     "text": [
      "[[ 1.  0.  5.]\n",
      " [ 1.  0. 10.]\n",
      " [ 0.  1.  8.]\n",
      " [ 0.  1.  9.]]\n"
     ]
    }
   ],
   "source": [
    "print(sess.run(inputs))"
   ]
  },
  {
   "cell_type": "markdown",
   "metadata": {},
   "source": [
    "This shows how the feature columns have packed the input vectors, with the one-hot \"department\" as the first two indices and \"sales\" as the third.\n",
    "\n",
    "[For more information](https://zhuanlan.zhihu.com/p/73701872)"
   ]
  },
  {
   "cell_type": "markdown",
   "metadata": {},
   "source": [
    "## Training\n",
    "Now that you're familiar with the basics of core TensorFlow, let's train a small regression model manually."
   ]
  },
  {
   "cell_type": "markdown",
   "metadata": {},
   "source": [
    "### Define the data\n",
    "First let's define some inputs, `x`, and the expected output for each input, `y_true`:"
   ]
  },
  {
   "cell_type": "code",
   "execution_count": 24,
   "metadata": {},
   "outputs": [],
   "source": [
    "x = tf.constant([[1], [2], [3], [4]], dtype=tf.float32)\n",
    "y_true = tf.constant([[0], [-1], [-2], [-3]], dtype=tf.float32)"
   ]
  },
  {
   "cell_type": "markdown",
   "metadata": {},
   "source": [
    "### Define the model\n",
    "Next, build a simple linear model, with 1 output:"
   ]
  },
  {
   "cell_type": "code",
   "execution_count": 25,
   "metadata": {},
   "outputs": [],
   "source": [
    "linear_model = tf.layers.Dense(units=1)\n",
    "\n",
    "y_pred = linear_model(x)"
   ]
  },
  {
   "cell_type": "markdown",
   "metadata": {},
   "source": [
    "You can evaluate the predictions as follows:"
   ]
  },
  {
   "cell_type": "code",
   "execution_count": 26,
   "metadata": {},
   "outputs": [
    {
     "name": "stdout",
     "output_type": "stream",
     "text": [
      "[[0.28113234]\n",
      " [0.5622647 ]\n",
      " [0.843397  ]\n",
      " [1.1245294 ]]\n"
     ]
    }
   ],
   "source": [
    "init = tf.global_variables_initializer()\n",
    "sess.run(init)\n",
    "\n",
    "print(sess.run(y_pred))"
   ]
  },
  {
   "cell_type": "markdown",
   "metadata": {},
   "source": [
    "### Loss\n",
    "To optimize a model, you first need to define the loss. We'll use the mean square error, a standard loss for regression problems.\n",
    "\n",
    "While you could do this manually with lower level math operations, the t`f.losses` module provides a set of common loss functions. You can use it to calculate the mean square error as follows:"
   ]
  },
  {
   "cell_type": "code",
   "execution_count": 27,
   "metadata": {},
   "outputs": [
    {
     "name": "stdout",
     "output_type": "stream",
     "text": [
      "6.904089\n"
     ]
    }
   ],
   "source": [
    "loss = tf.losses.mean_squared_error(labels=y_true, predictions=y_pred)\n",
    "\n",
    "print(sess.run(loss))"
   ]
  },
  {
   "cell_type": "markdown",
   "metadata": {},
   "source": [
    "### Training\n",
    "TensorFlow provides **optimizers** implementing standard optimization algorithms. These are implemented as sub-classes of tf.train.Optimizer. They incrementally change each variable in order to minimize the loss. The simplest optimization algorithm is **gradient descent**, implemented by `tf.train.GradientDescentOptimizer`. It modifies each variable according to the magnitude of the derivative of loss with respect to that variable. For example:"
   ]
  },
  {
   "cell_type": "code",
   "execution_count": 28,
   "metadata": {},
   "outputs": [],
   "source": [
    "optimizer = tf.train.GradientDescentOptimizer(0.01)\n",
    "train = optimizer.minimize(loss)"
   ]
  },
  {
   "cell_type": "markdown",
   "metadata": {},
   "source": [
    "This code builds all the graph components necessary for the optimization, and returns a training operation. When run, the training op will update variables in the graph. You might run it as follows:"
   ]
  },
  {
   "cell_type": "code",
   "execution_count": 29,
   "metadata": {},
   "outputs": [
    {
     "name": "stdout",
     "output_type": "stream",
     "text": [
      "6.904089\n",
      "4.8736143\n",
      "3.4642143\n",
      "2.4857686\n",
      "1.8063554\n",
      "1.3344371\n",
      "1.0064987\n",
      "0.77846754\n",
      "0.6197626\n",
      "0.5091648\n",
      "0.43195027\n",
      "0.37790242\n",
      "0.33993238\n",
      "0.31312105\n",
      "0.29405546\n",
      "0.2803671\n",
      "0.2704127\n",
      "0.263052\n",
      "0.25749356\n",
      "0.25318846\n",
      "0.2497557\n",
      "0.24693093\n",
      "0.24453063\n",
      "0.24242753\n",
      "0.2405333\n",
      "0.23878649\n",
      "0.23714468\n",
      "0.23557821\n",
      "0.23406658\n",
      "0.23259556\n",
      "0.23115528\n",
      "0.22973879\n",
      "0.22834131\n",
      "0.2269595\n",
      "0.22559103\n",
      "0.22423431\n",
      "0.22288811\n",
      "0.22155163\n",
      "0.22022435\n",
      "0.21890584\n",
      "0.2175957\n",
      "0.21629386\n",
      "0.21500003\n",
      "0.21371421\n",
      "0.21243611\n",
      "0.21116582\n",
      "0.20990315\n",
      "0.20864801\n",
      "0.20740053\n",
      "0.20616043\n",
      "0.20492783\n",
      "0.20370255\n",
      "0.20248464\n",
      "0.201274\n",
      "0.20007065\n",
      "0.1988744\n",
      "0.19768533\n",
      "0.19650342\n",
      "0.19532853\n",
      "0.1941607\n",
      "0.19299987\n",
      "0.19184595\n",
      "0.19069892\n",
      "0.18955877\n",
      "0.18842542\n",
      "0.18729883\n",
      "0.18617904\n",
      "0.1850659\n",
      "0.18395942\n",
      "0.18285957\n",
      "0.18176627\n",
      "0.18067954\n",
      "0.17959926\n",
      "0.17852548\n",
      "0.17745808\n",
      "0.17639711\n",
      "0.17534244\n",
      "0.17429411\n",
      "0.17325205\n",
      "0.17221615\n",
      "0.17118654\n",
      "0.17016304\n",
      "0.16914564\n",
      "0.16813436\n",
      "0.16712913\n",
      "0.16612986\n",
      "0.16513664\n",
      "0.1641493\n",
      "0.16316786\n",
      "0.16219231\n",
      "0.16122259\n",
      "0.16025868\n",
      "0.15930054\n",
      "0.1583481\n",
      "0.15740135\n",
      "0.15646023\n",
      "0.15552483\n",
      "0.15459493\n",
      "0.15367064\n",
      "0.15275186\n"
     ]
    }
   ],
   "source": [
    "for i in range(100):\n",
    "    _, loss_value = sess.run((train, loss))\n",
    "    print(loss_value)"
   ]
  },
  {
   "cell_type": "markdown",
   "metadata": {},
   "source": [
    "Since `train` is an op, not a tensor, it doesn't return a value when run. To see the progression of the loss during training, we run the loss tensor at the same time, producing output like the following:"
   ]
  },
  {
   "cell_type": "markdown",
   "metadata": {},
   "source": [
    "### Complete program"
   ]
  },
  {
   "cell_type": "code",
   "execution_count": 31,
   "metadata": {},
   "outputs": [
    {
     "name": "stdout",
     "output_type": "stream",
     "text": [
      "4.789718\n",
      "3.35233\n",
      "2.3547835\n",
      "1.6624365\n",
      "1.1818612\n",
      "0.84823054\n",
      "0.61656314\n",
      "0.4556464\n",
      "0.34382337\n",
      "0.2660664\n",
      "0.2119481\n",
      "0.17423318\n",
      "0.14790118\n",
      "0.12946846\n",
      "0.11651789\n",
      "0.1073722\n",
      "0.10086766\n",
      "0.09619664\n",
      "0.092798844\n",
      "0.09028545\n",
      "0.08838663\n",
      "0.086915195\n",
      "0.08574123\n",
      "0.08477457\n",
      "0.08395268\n",
      "0.08323214\n",
      "0.082582824\n",
      "0.08198383\n",
      "0.081420645\n",
      "0.08088317\n",
      "0.08036441\n",
      "0.07985952\n",
      "0.079365134\n",
      "0.078878865\n",
      "0.07839914\n",
      "0.07792473\n",
      "0.07745491\n",
      "0.07698909\n",
      "0.07652691\n",
      "0.076068036\n",
      "0.07561234\n",
      "0.07515961\n",
      "0.07470983\n",
      "0.074262835\n",
      "0.07381864\n",
      "0.07337712\n",
      "0.07293832\n",
      "0.07250215\n",
      "0.072068624\n",
      "0.07163769\n",
      "0.071209356\n",
      "0.0707836\n",
      "0.07036037\n",
      "0.06993972\n",
      "0.06952152\n",
      "0.06910587\n",
      "0.0686927\n",
      "0.06828198\n",
      "0.06787375\n",
      "0.06746793\n",
      "0.06706455\n",
      "0.06666357\n",
      "0.06626502\n",
      "0.065868825\n",
      "0.065475\n",
      "0.06508354\n",
      "0.06469442\n",
      "0.06430761\n",
      "0.06392312\n",
      "0.06354095\n",
      "0.063161045\n",
      "0.06278343\n",
      "0.062408026\n",
      "0.062034916\n",
      "0.061664008\n",
      "0.061295357\n",
      "0.06092885\n",
      "0.060564578\n",
      "0.060202476\n",
      "0.05984255\n",
      "0.05948474\n",
      "0.05912909\n",
      "0.058775567\n",
      "0.058424167\n",
      "0.058074858\n",
      "0.05772764\n",
      "0.057382505\n",
      "0.057039395\n",
      "0.056698382\n",
      "0.056359403\n",
      "0.05602241\n",
      "0.055687472\n",
      "0.05535452\n",
      "0.05502358\n",
      "0.054694578\n",
      "0.05436757\n",
      "0.05404253\n",
      "0.053719405\n",
      "0.053398237\n",
      "0.053078964\n"
     ]
    }
   ],
   "source": [
    "x = tf.constant([[1], [2], [3], [4]], dtype=tf.float32)\n",
    "y_true = tf.constant([[0], [-1], [-2], [-3]], dtype=tf.float32)\n",
    "\n",
    "# Define the model\n",
    "linear_model = tf.layers.Dense(units=1)\n",
    "\n",
    "y_pred = linear_model(x)\n",
    "\n",
    "with tf.Session() as sess:\n",
    "    # init variables\n",
    "    init = tf.global_variables_initializer()\n",
    "    sess.run(init)\n",
    "    # loss function\n",
    "    loss = tf.losses.mean_squared_error(labels=y_true, predictions=y_pred)\n",
    "    # optimizer\n",
    "    optimizer = tf.train.GradientDescentOptimizer(0.01)\n",
    "    train = optimizer.minimize(loss)\n",
    "    for i in range(100):\n",
    "        _, loss_value = sess.run((train, loss))\n",
    "        print(loss_value)\n",
    "\n"
   ]
  }
 ],
 "metadata": {
  "interpreter": {
   "hash": "e0293982cc521ba79463c97bcbf6060ec5665b6d4557db7071378f3862020d1c"
  },
  "kernelspec": {
   "display_name": "Python 3.5.6 64-bit ('hkgcn': conda)",
   "name": "python3"
  },
  "language_info": {
   "codemirror_mode": {
    "name": "ipython",
    "version": 3
   },
   "file_extension": ".py",
   "mimetype": "text/x-python",
   "name": "python",
   "nbconvert_exporter": "python",
   "pygments_lexer": "ipython3",
   "version": "3.5.6"
  }
 },
 "nbformat": 4,
 "nbformat_minor": 5
}